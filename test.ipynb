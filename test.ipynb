{
 "cells": [
  {
   "cell_type": "code",
   "execution_count": 2,
   "metadata": {},
   "outputs": [
    {
     "name": "stdout",
     "output_type": "stream",
     "text": [
      "                     \n",
      "                    \n",
      "                                     \n",
      "                        \n",
      "                    \n",
      "                       \n",
      "                                       \n",
      "                        \n",
      "                             \n",
      "                        \n",
      "                     \n",
      "                             \n",
      "                                \n",
      "                                   \n",
      "                                      \n",
      "                              \n",
      "                        \n",
      "                         \n",
      "                                     \n",
      "                                      \n",
      "                        \n",
      "                         \n",
      "                                    \n",
      "                       \n",
      "                         \n",
      "                         \n",
      "                                      \n",
      "                                \n",
      "                                     \n",
      "                      \n",
      "                         \n",
      "                     \n",
      "                    \n",
      "                     \n",
      "                        \n",
      "                          \n",
      "                        \n",
      "                                      \n",
      "                       \n",
      "                                 \n",
      "                                     \n",
      "                       \n",
      "                         \n",
      "                    \n",
      "                                 \n",
      "                                 \n",
      "                           \n",
      "                                \n",
      "                              \n",
      "                                      \n"
     ]
    }
   ],
   "source": [
    "import random\n",
    "\n",
    "for i in range(50):\n",
    "    n = random.randint(20, 39)\n",
    "    print(''.join(' ' for _ in range(n)))"
   ]
  },
  {
   "cell_type": "code",
   "execution_count": null,
   "metadata": {},
   "outputs": [],
   "source": []
  }
 ],
 "metadata": {
  "kernelspec": {
   "display_name": "Python 3",
   "language": "python",
   "name": "python3"
  },
  "language_info": {
   "codemirror_mode": {
    "name": "ipython",
    "version": 3
   },
   "file_extension": ".py",
   "mimetype": "text/x-python",
   "name": "python",
   "nbconvert_exporter": "python",
   "pygments_lexer": "ipython3",
   "version": "3.11.4"
  }
 },
 "nbformat": 4,
 "nbformat_minor": 2
}
